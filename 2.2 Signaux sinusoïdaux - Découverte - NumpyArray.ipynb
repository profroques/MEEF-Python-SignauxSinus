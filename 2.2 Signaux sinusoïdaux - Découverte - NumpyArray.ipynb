{
 "cells": [
  {
   "cell_type": "markdown",
   "metadata": {},
   "source": [
    "<div class=\"licence\">\n",
    "<b><span>Licence CC BY-NC-ND </span>\n",
    "    <span>Sarah Roques - Académie de Lyon</span></b>\n",
    "<br><span>MAJ : 09.08.2023</span>\n",
    "<br><span><img src=\"logoLicenceCC-BY-NC-ND.png\" alt=\"Licence\" width=\"100\"style=\"float:left\"/></span>\n",
    "</div>\n"
   ]
  },
  {
   "cell_type": "markdown",
   "metadata": {},
   "source": [
    "<h1> 2.2 Signaux Sinusoïdaux - Découverte - Numpy Array </h1>"
   ]
  },
  {
   "cell_type": "markdown",
   "metadata": {},
   "source": [
    "<div class=\"alert alert-info\">\n",
    "  <strong>Info!</strong> \n",
    "    \n",
    "<p>Cette section est l'occasion de se familiariser avec l'usage de (numpy) array pour créer et afficher : deux fonctions sinusoïdales et une fonction associée à leur superposition.</p>\n",
    "</div>"
   ]
  },
  {
   "cell_type": "markdown",
   "metadata": {},
   "source": [
    "\n",
    "<h2 style = \"color : brown\">1.</h2>\n",
    "Dans le bloc suivant, <b>remplacer</b> les symboles `$$$` par un script adapté pour :\n",
    "\n",
    "- <b>importer</b> la bibliothèque ```numpy``` en l'associant à l'alias ```np```.\n"
   ]
  },
  {
   "cell_type": "markdown",
   "metadata": {},
   "source": [
    "<details>\n",
    "<summary>  <i> Cliquer UNE FOIS sur le mot SOLUTION pour faire apparaître une solution</i> </summary>\n",
    "\n",
    "<br>\n",
    "\n",
    "```\n",
    "import numpy as np #Importation de la bibliothèque numpy\n",
    "import matplotlib.pyplot as plt #Importation de la bibliothèque matplotlib.pyplot    \n",
    "```\n",
    "</details>"
   ]
  },
  {
   "cell_type": "code",
   "execution_count": null,
   "metadata": {},
   "outputs": [],
   "source": [
    "\"\"\"\n",
    "Création et superposition de deux signaux sinusoïdaux\n",
    "de même période et de même amplitude \n",
    "avec un déphasage phi \n",
    "\n",
    "Programme informatique avec l'usage de listes\n",
    "\n",
    "S. Roques - Académie de Lyon - M.A.J : 09.08.23\n",
    "\"\"\"\n",
    "\n",
    "import $$$ as $$$ #Importation de la bibliothèque numpy\n",
    "import matplotlib.pyplot as plt #Importation de la bibliothèque matplotlib.pyplot"
   ]
  },
  {
   "cell_type": "markdown",
   "metadata": {},
   "source": [
    "<h2 style = \"color : brown\">2.</h2>\n",
    "Dans le bloc suivant, <b>remplacer</b> les symboles `$$$` par un script adapté pour :\n",
    "<ol>\n",
    "<li><b>attribuer</b> la valeur 1 (seconde) à T </li> \n",
    "<li><b>attribuer</b> la valeur 1 (unité) à A </li>\n",
    "<li><b>attribuer</b> la valeur $\\pi$/2 (rad) à $\\varphi$ </li>\n",
    "</ol>"
   ]
  },
  {
   "cell_type": "markdown",
   "metadata": {},
   "source": [
    "<details>\n",
    "<summary>  <i> Cliquer UNE FOIS sur le mot SOLUTION pour faire apparaître une solution</i> </summary>\n",
    "\n",
    "<br>\n",
    "\n",
    "```\n",
    "# Paramètres des signaux\n",
    "T = 1  # Période\n",
    "A = 1  # Amplitude\n",
    "\n",
    "phi = np.pi / 2  # Déphasage (peut varier, par exemple, entre 0 et pi)    \n",
    "```\n",
    "</details>"
   ]
  },
  {
   "cell_type": "code",
   "execution_count": null,
   "metadata": {},
   "outputs": [],
   "source": [
    "# Paramètres des signaux\n",
    "T = $$$  # Période\n",
    "A = $$$  # Amplitude\n",
    "\n",
    "phi = $$$ / 2  # Déphasage (peut varier, par exemple, entre 0 et pi)"
   ]
  },
  {
   "cell_type": "markdown",
   "metadata": {},
   "source": [
    "<h2 style = \"color : brown\">3.</h2>\n",
    "Dans le bloc suivant, <b>remplacer</b> les symboles `$$$` par un script adapté pour :\n",
    "<ul>\n",
    "<li><b>créer</b> un numpy array contenant 400 valeurs variant de 0 à 4 </li> \n",
    "</ul>"
   ]
  },
  {
   "cell_type": "markdown",
   "metadata": {},
   "source": [
    "<details>\n",
    "<summary>  <i> Cliquer UNE FOIS sur le mot SOLUTION pour faire apparaître une solution</i> </summary>\n",
    "\n",
    "<br>\n",
    "\n",
    "```\n",
    "# Création d'un numpy array pour le temps (400 valeurs entre 0 et 4)\n",
    "t = np.linspace(0, 4, 400)\n",
    "```\n",
    "</details>"
   ]
  },
  {
   "cell_type": "code",
   "execution_count": null,
   "metadata": {},
   "outputs": [],
   "source": [
    "# Création d'un numpy array pour le temps (400 valeurs entre 0 et 4)\n",
    "t = np.linspace(0, $$$, $$$)"
   ]
  },
  {
   "cell_type": "markdown",
   "metadata": {},
   "source": [
    "<h2 style = \"color : brown\">4.</h2>\n",
    "\n",
    "Dans le bloc suivant, <b>remplacer</b> les symboles `$$$` par un script adapté pour :\n",
    "<ol>\n",
    "<li><b>générer</b> un numpy array associée à la fonction y1 = A.cos(2*pi*t/T) pour les différentes valeurs de t</li>\n",
    "<li><b>générer</b> un numpy array associée à la fonction y2 = A.cos(2*pi*t/T+phi) pour les différentes valeurs de t</li>\n",
    "<li><b>générer</b> un numpy array associée à la fonction  y = A.cos(2*pi*t/T)+A.cos(2*pi*t/T+phi) pour les différentes valeurs de t</li>\n",
    "</ol>"
   ]
  },
  {
   "cell_type": "markdown",
   "metadata": {},
   "source": [
    "<details>\n",
    "<summary>  <i> Cliquer UNE FOIS sur le mot SOLUTION pour faire apparaître une solution</i> </summary>\n",
    "\n",
    "<br>\n",
    "\n",
    "```\n",
    "# Calcul des signaux sinusoïdaux à l'aide de numpy arrays\n",
    "y1 = A * np.sin(2 * np.pi * t / T)  # Signal 1: A * sin(2*pi*t/T)\n",
    "y2 = A * np.sin(2 * np.pi * t / T + phi)  # Signal 2: A * sin(2*pi*t/T + phi)\n",
    "y = y1 + y2  # Signal résultant : Somme des signaux y1 et y2\n",
    "```\n",
    "</details>"
   ]
  },
  {
   "cell_type": "code",
   "execution_count": null,
   "metadata": {},
   "outputs": [],
   "source": [
    "# Calcul des signaux sinusoïdaux à l'aide de numpy arrays\n",
    "y1 = A * np.sin($$$)  # Signal 1: A * sin(2*pi*t/T)\n",
    "y2 = A * $$$  # Signal 2: A * sin(2*pi*t/T + phi)\n",
    "y = $$$ + $$$  # Signal résultant : Somme des signaux y1 et y2\n"
   ]
  },
  {
   "cell_type": "markdown",
   "metadata": {},
   "source": [
    "<h2 style = \"color : brown\">5.</h2>\n",
    "Dans le bloc suivant, <b>remplacer</b> les symboles `$$$` par un script adapté pour :\n",
    "<ol>\n",
    "<li><b>afficher</b> une courbe bleue avec symbole + pour représenter la fonction y1 = A.in(2*pi*t/T)</li>\n",
    "<li><b>afficher</b> en vert avec symbole - - la représentation graphique y2 en fonction de t</li>\n",
    "</ol>"
   ]
  },
  {
   "cell_type": "markdown",
   "metadata": {},
   "source": [
    "<details>\n",
    "<summary>  <i> Cliquer UNE FOIS sur le mot SOLUTION pour faire apparaître une solution</i> </summary>\n",
    "\n",
    "<br>\n",
    "\n",
    "```\n",
    "# Tracé des signaux\n",
    "plt.plot(t, y1, 'b+', label='A.sin(2*pi*t/T)')  # Signal 1 en bleu avec des croix\n",
    "plt.plot(t, y2, 'g--', label='A.sin(2*pi*t/T+phi)')  # Signal 2 en vert en tirets\n",
    "plt.plot(t, y, 'r-', label='A.sin(2*pi*t/T)+A.sin(2*pi*t/T+phi)')  # Signal résultant en rouge en lignes pleines\n",
    "```\n",
    "</details>"
   ]
  },
  {
   "cell_type": "code",
   "execution_count": null,
   "metadata": {},
   "outputs": [],
   "source": [
    "# Tracé des signaux\n",
    "plt.plot(t, $$$, 'b+', label='A.sin(2*pi*t/T)')  # Signal 1 en bleu avec des croix\n",
    "plt.plot(t, y2, $$$, label='A.sin(2*pi*t/T+phi)')  # Signal 2 en vert en tirets\n",
    "plt.plot(t, y, 'r-', label='A.sin(2*pi*t/T)+A.sin(2*pi*t/T+phi)')  # Signal résultant en rouge en lignes pleines"
   ]
  },
  {
   "cell_type": "markdown",
   "metadata": {},
   "source": [
    "<h2 style = \"color : brown\">6.</h2>\n",
    "Dans le bloc suivant, <b>remplacer</b> les symboles `$$$` par un script adapté pour :\n",
    "<ol>\n",
    "<li><b>afficher</b> le titre du graphique \"Signaux sinusoïdaux et signal résultant\"</li>\n",
    "<li><b>afficher</b> \"Temps\" comme légende pour l'axe des abscisses</li>\n",
    "<li><b>afficher</b> la répresentation graphique des trois fonctions sur le même graphe</li>\n",
    "</ol>"
   ]
  },
  {
   "cell_type": "markdown",
   "metadata": {},
   "source": [
    "<details>\n",
    "<summary>  <i> Cliquer UNE FOIS sur le mot SOLUTION pour faire apparaître une solution</i> </summary>\n",
    "\n",
    "<br>\n",
    "\n",
    "```\n",
    "# Paramètres du graphique\n",
    "plt.title(\"Signaux sinusoïdaux et signal résultant\") #Titre du graphique\n",
    "plt.xlabel('Temps')  # Axe des abscisses\n",
    "plt.ylabel('Amplitude')  # Axe des ordonnées\n",
    "plt.legend(loc=\"lower center\")  # Affiche la légende en bas au centre\n",
    "\n",
    "# Affichage du graphique\n",
    "plt.show()\n",
    "```\n",
    "</details>"
   ]
  },
  {
   "cell_type": "code",
   "execution_count": null,
   "metadata": {},
   "outputs": [],
   "source": [
    "# Paramètres du graphique\n",
    "plt.$$$(\"Signaux sinusoïdaux et signal résultant\") #Titre du graphique\n",
    "plt.$$$('Temps')  # Axe des abscisses\n",
    "plt.ylabel('Amplitude')  # Axe des ordonnées\n",
    "plt.legend(loc=\"lower center\")  # Affiche la légende en bas au centre\n",
    "\n",
    "\n",
    "# Affichage du graphique\n",
    "$$$.$$$()"
   ]
  }
 ],
 "metadata": {
  "kernelspec": {
   "display_name": "Python 3 (ipykernel)",
   "language": "python",
   "name": "python3"
  },
  "language_info": {
   "codemirror_mode": {
    "name": "ipython",
    "version": 3
   },
   "file_extension": ".py",
   "mimetype": "text/x-python",
   "name": "python",
   "nbconvert_exporter": "python",
   "pygments_lexer": "ipython3",
   "version": "3.11.0"
  }
 },
 "nbformat": 4,
 "nbformat_minor": 2
}
