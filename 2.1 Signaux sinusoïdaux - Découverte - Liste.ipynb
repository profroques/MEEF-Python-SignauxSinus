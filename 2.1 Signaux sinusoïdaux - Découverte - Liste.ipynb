{
 "cells": [
  {
   "cell_type": "markdown",
   "metadata": {},
   "source": [
    "<div class=\"licence\">\n",
    "<b><span>Licence CC BY-NC-ND </span>\n",
    "    <span>Sarah Roques - Académie de Lyon</span></b>\n",
    "<br><span>MAJ : 09.08.2023</span>\n",
    "<br><span><img src=\"logoLicenceCC-BY-NC-ND.png\" alt=\"Licence\" width=\"100\"style=\"float:left\"/></span>\n",
    "</div>\n"
   ]
  },
  {
   "cell_type": "markdown",
   "metadata": {},
   "source": [
    "<h1> 2.1 Signaux Sinusoïdaux - Découverte - Liste </h1>"
   ]
  },
  {
   "cell_type": "markdown",
   "metadata": {},
   "source": [
    "<div class=\"alert alert-info\">\n",
    "  <strong>Info!</strong> \n",
    "    \n",
    "<p>Cette section est l'occasion de se familiariser avec l'usage de listes pour créer et afficher : deux fonctions sinusoïdales et une fonction associée à leur superposition.</p>\n",
    "</div>"
   ]
  },
  {
   "cell_type": "markdown",
   "metadata": {},
   "source": [
    "\n",
    "<h2 style = \"color : brown\">1.</h2>\n",
    "Dans le bloc suivant, <b>remplacer</b> les symboles `$$$` par un script adapté pour :\n",
    "\n",
    "- <b>importer</b> la bibliothèque ```matplotlib.pyplot``` avec pour alias `plt`\n"
   ]
  },
  {
   "cell_type": "markdown",
   "metadata": {},
   "source": [
    "<details>\n",
    "<summary>  <i> Cliquer UNE FOIS sur le mot SOLUTION pour faire apparaître une solution</i> </summary>\n",
    "\n",
    "<br>\n",
    "\n",
    "```\n",
    "from numpy import * # importation du module de calcul numpy\n",
    "import matplotlib.pyplot as plt # importation du module de de tracé    \n",
    "```\n",
    "</details>"
   ]
  },
  {
   "cell_type": "code",
   "execution_count": null,
   "metadata": {},
   "outputs": [],
   "source": [
    "\"\"\"\n",
    "Création et superposition de deux signaux sinusoïdaux\n",
    "de même période et de même amplitude \n",
    "avec un déphasage phi \n",
    "\n",
    "Programme informatique avec l'usage de listes\n",
    "\n",
    "S. Roques - Académie de Lyon - M.A.J : 09.08.23\n",
    "\"\"\"\n",
    "\n",
    "from numpy import * # importation du module de calcul numpy\n",
    "import $$$ as $$$ # importation du module de de tracé\n"
   ]
  },
  {
   "cell_type": "markdown",
   "metadata": {},
   "source": [
    "<h2 style = \"color : brown\">2.</h2>\n",
    "Dans le bloc suivant, <b>remplacer</b> les symboles `$$$` par un script adapté pour :\n",
    "<ol>\n",
    "<li><b>attribuer</b> la valeur 1 (seconde) à T </li> \n",
    "<li><b>attribuer</b> la valeur 1 (unité) à A </li>\n",
    "<li><b>attribuer</b> la valeur $\\pi$/2 (rad) à $\\varphi$ </li>\n",
    "</ol>"
   ]
  },
  {
   "cell_type": "markdown",
   "metadata": {},
   "source": [
    "<details>\n",
    "<summary>  <i> Cliquer UNE FOIS sur le mot SOLUTION pour faire apparaître une solution</i> </summary>\n",
    "\n",
    "<br>\n",
    "\n",
    "```\n",
    "T=1 # initialisation de la période\n",
    "A = 1 # initialisation de l'amplitude de chaque signal\n",
    "phi = pi/2 #déphasage pouvant varier par exemple entre 0 et pi\n",
    "    \n",
    "```\n",
    "</details>"
   ]
  },
  {
   "cell_type": "code",
   "execution_count": null,
   "metadata": {},
   "outputs": [],
   "source": [
    "T=$$$ # initialisation de la période\n",
    "A = $$$ # initialisation de l'amplitude de chaque signal\n",
    "phi = $$$ #déphasage pouvant varier par exemple entre 0 et pi"
   ]
  },
  {
   "cell_type": "markdown",
   "metadata": {},
   "source": [
    "<h2 style = \"color : brown\">3.</h2>\n",
    "Dans le bloc suivant, <b>remplacer</b> les symboles `$$$` par un script adapté pour :\n",
    "<ul>\n",
    "<li><b>générer</b> une liste de 400 valeurs de t </li> \n",
    "</ul>"
   ]
  },
  {
   "cell_type": "markdown",
   "metadata": {},
   "source": [
    "<details>\n",
    "<summary>  <i> Cliquer UNE FOIS sur le mot SOLUTION pour faire apparaître une solution</i> </summary>\n",
    "\n",
    "<br>\n",
    "\n",
    "```\n",
    "t=[]\n",
    "for i in range (400):\n",
    "\tt.append(i/100) # génération d'une liste de 400 valeurs comprises entre 0 et 4\n",
    "\n",
    "```\n",
    "</details>"
   ]
  },
  {
   "cell_type": "code",
   "execution_count": null,
   "metadata": {},
   "outputs": [],
   "source": [
    "t=[]\n",
    "for i in range ($$$):\n",
    "\tt.append(i/100) # génération d'une liste de 400 valeurs comprises entre 0 et 4\n"
   ]
  },
  {
   "cell_type": "markdown",
   "metadata": {},
   "source": [
    "<h2 style = \"color : brown\">4.</h2>\n",
    "\n",
    "Dans le bloc suivant, <b>remplacer</b> les symboles `$$$` par un script adapté pour :\n",
    "<ol>\n",
    "<li><b>générer</b> une liste y1 des ordonnées A.cos(2*pi*t/T) pour les différentes valeurs de t</li>\n",
    "<li><b>générer</b> une liste y2 des ordonnées A.cos(2*pi*t/T+phi) pour les différentes valeurs de t</li>\n",
    "<li><b>générer</b> une liste y des ordonnées A.cos(2*pi*t/T)+A.cos(2*pi*t/T+phi) pour les différentes valeurs de t</li>\n",
    "</ol>"
   ]
  },
  {
   "cell_type": "markdown",
   "metadata": {},
   "source": [
    "<details>\n",
    "<summary>  <i> Cliquer UNE FOIS sur le mot SOLUTION pour faire apparaître une solution</i> </summary>\n",
    "\n",
    "<br>\n",
    "\n",
    "```\n",
    "y1=[] #génération d'une liste vide pour le premier signal\n",
    "y2=[] #génération d'une liste vide pour le deuxième signal\n",
    "y=[] #génération d'une liste vide pour la somme des deux signaux\n",
    "\n",
    "for i in t :\n",
    "\t\ty1.append(A*sin(2*pi*i/T)) # génération de la liste des ordonnées de A.sin(2*pi*t/T)\n",
    "\t\ty2.append(A*sin(2*pi*i/T+phi)) # génération de la liste des ordonnées de A.sin(2*pi*t/T + phi)\n",
    "\t\ty.append(A*sin(2*pi*i/T)+A*sin(2*pi*i/T+phi)) # génération de la liste des ordonnées de A.sin(2*pi*t/T) + A.sin(2*pi*t/T + phi)\n",
    "```\n",
    "</details>"
   ]
  },
  {
   "cell_type": "code",
   "execution_count": null,
   "metadata": {},
   "outputs": [],
   "source": [
    "y1=[] #génération d'une liste vide pour le premier signal\n",
    "y2=[] #génération d'une liste vide pour le deuxième signal\n",
    "y=[] #génération d'une liste vide pour la somme des deux signaux\n",
    "\n",
    "for i in t :\n",
    "\t\ty1.append($$$) # génération de la liste des ordonnées de A.sin(2*pi*t/T)\n",
    "\t\ty2.$$$(A*sin(2*pi*i/T+phi)) # génération de la liste des ordonnées de A.sin(2*pi*t/T + phi)\n",
    "\t\ty.$$$ # génération de la liste des ordonnées de A.sin(2*pi*t/T) + A.sin(2*pi*t/T + phi)"
   ]
  },
  {
   "cell_type": "markdown",
   "metadata": {},
   "source": [
    "<h2 style = \"color : brown\">5.</h2>\n",
    "Dans le bloc suivant, <b>remplacer</b> les symboles `$$$` par un script adapté pour :\n",
    "<ol>\n",
    "<li><b>générer</b> une courbe bleue avec symbole + pour représenter la fonction y1 = A.in(2*pi*t/T)</li>\n",
    "<li><b>afficher</b> la représentation graphique y2 en fonction de t</li>\n",
    "<li><b>placer</b> la légende du graphique en bas (<i>\"lower\"</i>) du graphique et au centre (remarque : centre se dit <i>\"center\"</i> en anglais)</li>\n",
    "<li><b>afficher</b> la représentation graphique des trois fonctions sur un même graphique</li>\n",
    "</ol>"
   ]
  },
  {
   "cell_type": "markdown",
   "metadata": {},
   "source": [
    "<details>\n",
    "<summary>  <i> Cliquer UNE FOIS sur le mot SOLUTION pour faire apparaître une solution</i> </summary>\n",
    "\n",
    "<br>\n",
    "\n",
    "```\n",
    "plt.plot(t,y1,'b+', label='A.sin(2*pi*t/T)') # génération du tracé de A.sin(2*pi*t/T) et légende associée\n",
    "plt.plot(t,y2,'g--',label='A.sin(2*pi*t/T+phi)') # génération du tracé de A.sin(2*pi*t/T + phi) et légende associée\n",
    "plt.plot(t,y,'r-',label='A.sin(2*pi*t/T)+A.sin(2*pi*t/T+phi)') # génération du tracé de A.sin(2*pi*t/T)+A.sin(2*pi*t/T + phi) et légende associée\n",
    "plt.legend(loc=\"lower center\") # affichage des légendes\n",
    "plt.show() # affichage de la figure```\n",
    "</details>"
   ]
  },
  {
   "cell_type": "code",
   "execution_count": null,
   "metadata": {},
   "outputs": [],
   "source": [
    "plt.plot(t,y1,'$$$', label='A.sin(2*pi*t/T)') # génération du tracé de A.sin(2*pi*t/T) et légende associée\n",
    "plt.plot($$$,$$$,'g--',label='A.sin(2*pi*t/T+phi)') # génération du tracé de A.sin(2*pi*t/T + phi) et légende associée\n",
    "plt.plot(t,y,'r-',label='A.sin(2*pi*t/T)+A.sin(2*pi*t/T+phi)') # génération du tracé de A.sin(2*pi*t/T)+A.sin(2*pi*t/T + phi) et légende associée\n",
    "plt.legend(loc=\"lower $$$\") # affichage des légendes\n",
    "plt.$$$() # affichage de la figure"
   ]
  },
  {
   "cell_type": "code",
   "execution_count": null,
   "metadata": {},
   "outputs": [],
   "source": []
  }
 ],
 "metadata": {
  "kernelspec": {
   "display_name": "Python 3 (ipykernel)",
   "language": "python",
   "name": "python3"
  },
  "language_info": {
   "codemirror_mode": {
    "name": "ipython",
    "version": 3
   },
   "file_extension": ".py",
   "mimetype": "text/x-python",
   "name": "python",
   "nbconvert_exporter": "python",
   "pygments_lexer": "ipython3",
   "version": "3.11.0"
  }
 },
 "nbformat": 4,
 "nbformat_minor": 2
}
